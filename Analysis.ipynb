{
 "cells": [
  {
   "cell_type": "code",
   "execution_count": 50,
   "id": "3b14471c-1cec-479d-bec0-f76dfba8edaf",
   "metadata": {},
   "outputs": [],
   "source": [
    "import array as arr\n",
    "import numpy as np\n",
    "# E:\\P2\\OP2"
   ]
  },
  {
   "cell_type": "code",
   "execution_count": 51,
   "id": "238dd84c-2152-40b8-a4cd-1e249cd0304b",
   "metadata": {},
   "outputs": [],
   "source": [
    "from numpy import asarray\n",
    "from numpy import savetxt"
   ]
  },
  {
   "cell_type": "code",
   "execution_count": 52,
   "id": "7f2c538c-fee6-4c03-965e-a25e7a75522a",
   "metadata": {},
   "outputs": [],
   "source": [
    "from numpy import genfromtxt\n",
    "CO_arr_jan = genfromtxt('C:/Users/Desktop/J Prgrm/CO new OUTPUT/CO_jan.csv', delimiter=',')\n",
    "CO_arr_feb = genfromtxt('C:/Users/Desktop/J Prgrm/CO new OUTPUT/CO_feb.csv', delimiter=',')\n",
    "CO_arr_mar = genfromtxt('C:/Users/Desktop/J Prgrm/CO new OUTPUT/CO_march.csv', delimiter=',')\n",
    "CO_arr_apr = genfromtxt('C:/Users/Desktop/J Prgrm/CO new OUTPUT/CO_april.csv', delimiter=',')\n",
    "CO_arr_may = genfromtxt('C:/Users/Desktop/J Prgrm/CO new OUTPUT/CO_may.csv', delimiter=',')\n",
    "CO_arr_jun = genfromtxt('C:/Users/Desktop/J Prgrm/CO new OUTPUT/CO_june.csv', delimiter=',')\n",
    "CO_arr_jul = genfromtxt('C:/Users/Desktop/J Prgrm/CO new OUTPUT/CO_july.csv', delimiter=',')\n",
    "CO_arr_aug = genfromtxt('C:/Users/Desktop/J Prgrm/CO new OUTPUT/CO_aug.csv', delimiter=',')\n",
    "CO_arr_sep = genfromtxt('C:/Users/Desktop/J Prgrm/CO new OUTPUT/CO_sept.csv', delimiter=',')\n",
    "CO_arr_oct = genfromtxt('C:/Users/Desktop/J Prgrm/CO new OUTPUT/CO_oct.csv', delimiter=',')\n",
    "CO_arr_nov = genfromtxt('C:/Users/Desktop/J Prgrm/CO new OUTPUT/CO_nov.csv', delimiter=',')\n",
    "CO_arr_dec = genfromtxt('C:/Users/Desktop/J Prgrm/CO new OUTPUT/CO_Dec.csv', delimiter=',')\n",
    "COlist=[CO_arr_jan,CO_arr_feb,CO_arr_mar,CO_arr_apr,CO_arr_may,CO_arr_jun,CO_arr_jul,CO_arr_aug,CO_arr_sep,CO_arr_oct,CO_arr_nov,CO_arr_dec]\n"
   ]
  },
  {
   "cell_type": "code",
   "execution_count": 53,
   "id": "c8c8e33b-0ede-4131-a432-f56e2372f0b9",
   "metadata": {},
   "outputs": [],
   "source": [
    "df=['','','','','','','','','','','','']"
   ]
  },
  {
   "cell_type": "code",
   "execution_count": 54,
   "id": "427b8d7e-dec7-4c84-b2dd-63ee00a49566",
   "metadata": {},
   "outputs": [
    {
     "data": {
      "text/plain": [
       "[array([0., 0., 0., ..., 0., 0., 0.]),\n",
       " array([0., 0., 0., ..., 0., 0., 0.]),\n",
       " array([0., 0., 0., ..., 0., 0., 0.]),\n",
       " array([0., 0., 0., ..., 0., 0., 0.]),\n",
       " array([0., 0., 0., ..., 0., 0., 0.]),\n",
       " array([0., 0., 0., ..., 0., 0., 0.]),\n",
       " array([0., 0., 0., ..., 0., 0., 0.]),\n",
       " array([0., 0., 0., ..., 0., 0., 0.]),\n",
       " array([0., 0., 0., ..., 0., 0., 0.]),\n",
       " array([0., 0., 0., ..., 0., 0., 0.]),\n",
       " array([0., 0., 0., ..., 0., 0., 0.]),\n",
       " array([0., 0., 0., ..., 0., 0., 0.])]"
      ]
     },
     "execution_count": 54,
     "metadata": {},
     "output_type": "execute_result"
    }
   ],
   "source": [
    "i=0\n",
    "for x in COlist:\n",
    "    arr=np.array(x)\n",
    "    arr_list= arr.flatten()\n",
    "    df[i]=arr_list\n",
    "    i=i+1\n",
    "df\n",
    "# arr\n",
    "# arr_list= arr.flatten()\n",
    "# print(arr_list)"
   ]
  },
  {
   "cell_type": "code",
   "execution_count": 55,
   "id": "9cc3f567-5962-4167-a7d4-da7f540f4cbc",
   "metadata": {},
   "outputs": [],
   "source": [
    "dft= np.transpose(df)"
   ]
  },
  {
   "cell_type": "code",
   "execution_count": 56,
   "id": "cd6aa6d8-4b8e-4cdb-a6df-766de88f960d",
   "metadata": {},
   "outputs": [],
   "source": [
    "savetxt('E:/GIS_IIRS/P2/Output/test_dft.csv',dft, delimiter=',')"
   ]
  },
  {
   "cell_type": "code",
   "execution_count": 57,
   "id": "3ee332f0-1651-48d6-8e55-ea860117f969",
   "metadata": {},
   "outputs": [],
   "source": [
    "savetxt('E:/GIS_IIRS/P2/Output/test_56.csv',df, delimiter=',')"
   ]
  },
  {
   "cell_type": "code",
   "execution_count": 58,
   "id": "8b733d44-762c-4445-9030-aee33da1c7bb",
   "metadata": {},
   "outputs": [],
   "source": [
    "arr_jan = genfromtxt('C:/Users/Desktop/J Prgrm/LST_OUTPUT_new/lst_output_jan.csv', delimiter=',')\n",
    "arr_feb = genfromtxt('C:/Users/Desktop/J Prgrm/LST_OUTPUT_new/lst_output_feb.csv', delimiter=',')\n",
    "arr_mar = genfromtxt('C:/Users/Desktop/J Prgrm/LST_OUTPUT_new/lst_output_mar.csv', delimiter=',')\n",
    "arr_apr = genfromtxt('C:/Users/Desktop/J Prgrm/LST_OUTPUT_new/lst_output_apr.csv', delimiter=',')\n",
    "arr_may = genfromtxt('C:/Users/Desktop/J Prgrm/LST_OUTPUT_new/lst_output_may.csv', delimiter=',')\n",
    "arr_jun = genfromtxt('C:/Users/Desktop/J Prgrm/LST_OUTPUT_new/LST_jun.csv', delimiter=',')\n",
    "arr_jul = genfromtxt('C:/Users/Desktop/J Prgrm/LST_OUTPUT_new/LST_july.csv', delimiter=',')\n",
    "arr_aug = genfromtxt('C:/Users/Desktop/J Prgrm/LST_OUTPUT_new/LST_aug.csv', delimiter=',')\n",
    "arr_sep = genfromtxt('C:/Users/Desktop/J Prgrm/LST_OUTPUT_new/LST_sept.csv', delimiter=',')\n",
    "arr_oct = genfromtxt('C:/Users/Desktop/J Prgrm/LST_OUTPUT_new/lst_output_oct.csv', delimiter=',')\n",
    "arr_nov = genfromtxt('C:/Users/Desktop/J Prgrm/LST_OUTPUT_new/LST_nov.csv', delimiter=',')\n",
    "arr_dec = genfromtxt('C:/Users/Desktop/J Prgrm/LST_OUTPUT_new/LST_dec.csv', delimiter=',')\n",
    "lstlist=[arr_jan,arr_feb,arr_mar,arr_apr,arr_may,arr_jun,arr_jul,arr_aug,arr_sep,arr_oct,arr_nov,arr_dec]"
   ]
  },
  {
   "cell_type": "code",
   "execution_count": 59,
   "id": "ff596eb8-a30e-4bdc-90f3-f30199e5ff5c",
   "metadata": {},
   "outputs": [],
   "source": [
    "df2=['','','','','','','','','','','','']\n",
    "# df = pd.read_csv('E:/GIS_IIRS/P2/Output/test_55.csv')"
   ]
  },
  {
   "cell_type": "code",
   "execution_count": 60,
   "id": "781e08ac-f2f8-4ce0-82ab-db1340a34067",
   "metadata": {},
   "outputs": [],
   "source": [
    "i=0\n",
    "for x in lstlist:\n",
    "    arr=np.array(x)\n",
    "    arr_list= arr.flatten()\n",
    "    df2[i]=arr_list\n",
    "    i=i+1"
   ]
  },
  {
   "cell_type": "code",
   "execution_count": 66,
   "id": "3109ef1e-8b2c-4534-af22-94ed1373571a",
   "metadata": {},
   "outputs": [
    {
     "name": "stdout",
     "output_type": "stream",
     "text": [
      "[[1.         0.99897089]\n",
      " [0.99897089 1.        ]]\n",
      "[[1.         0.87067788]\n",
      " [0.87067788 1.        ]]\n",
      "[[1.         0.98320811]\n",
      " [0.98320811 1.        ]]\n",
      "[[1.         0.99564213]\n",
      " [0.99564213 1.        ]]\n",
      "[[1.         0.99571529]\n",
      " [0.99571529 1.        ]]\n",
      "[[1.         0.98605553]\n",
      " [0.98605553 1.        ]]\n",
      "[[1.         0.98718092]\n",
      " [0.98718092 1.        ]]\n",
      "[[1.         0.79165121]\n",
      " [0.79165121 1.        ]]\n",
      "[[1.         0.82035505]\n",
      " [0.82035505 1.        ]]\n",
      "[[1.         0.99723237]\n",
      " [0.99723237 1.        ]]\n",
      "[[1.         0.99308777]\n",
      " [0.99308777 1.        ]]\n",
      "[[1.         0.99792829]\n",
      " [0.99792829 1.        ]]\n"
     ]
    }
   ],
   "source": [
    "i=0\n",
    "for x in lstlist and COlist:\n",
    "    arr1=np.array(lstlist[i])\n",
    "    LST_arr= arr1.flatten()\n",
    "    arr2=np.array(COlist[i])\n",
    "    CO_arr= arr2.flatten()\n",
    "    d=np.corrcoef(CO_arr,LST_arr)\n",
    "    print(d)\n",
    "    i=i+1"
   ]
  },
  {
   "cell_type": "code",
   "execution_count": 24,
   "id": "a18964eb-9603-4277-b11d-84ff845ea4bd",
   "metadata": {},
   "outputs": [],
   "source": [
    "df2t= np.transpose(df2)"
   ]
  },
  {
   "cell_type": "code",
   "execution_count": 25,
   "id": "bd6ffa65-367e-4548-8ca5-9f893febd1c6",
   "metadata": {},
   "outputs": [],
   "source": [
    "savetxt('E:/GIS_IIRS/P2/Output/test_df2t.csv',df2t, delimiter=',')"
   ]
  },
  {
   "cell_type": "code",
   "execution_count": 70,
   "id": "f9ba8f45-4543-4f6f-ba03-117de8883b8c",
   "metadata": {},
   "outputs": [],
   "source": [
    "df_new= dft.flatten()\n",
    "df2_new= df2t.flatten()"
   ]
  },
  {
   "cell_type": "code",
   "execution_count": 74,
   "id": "49f03199-1c10-49c9-9060-07fa11519c98",
   "metadata": {},
   "outputs": [],
   "source": [
    "savetxt('E:/GIS_IIRS/P2/Output/test_df_new.csv',df_new, delimiter=',')\n",
    "savetxt('E:/GIS_IIRS/P2/Output/test_df2_new.csv',df2_new, delimiter=',')"
   ]
  },
  {
   "cell_type": "code",
   "execution_count": 72,
   "id": "b15d37a2-748f-423f-846d-b1aba223176d",
   "metadata": {},
   "outputs": [],
   "source": [
    "d=np.corrcoef(df_new,df2_new)"
   ]
  },
  {
   "cell_type": "code",
   "execution_count": 75,
   "id": "175c06f4-c4ed-4980-b7c1-02c7a548e629",
   "metadata": {},
   "outputs": [],
   "source": [
    "savetxt('E:/GIS_IIRS/P2/Output/Overall_Corelation.csv',d, delimiter=',')"
   ]
  },
  {
   "cell_type": "code",
   "execution_count": 37,
   "id": "d7987acb-30b1-40c1-aab5-afeb889e55f7",
   "metadata": {},
   "outputs": [],
   "source": [
    "savetxt('E:/GIS_IIRS/P2/Output/test_df_newer.csv',df_newer, delimiter=',')\n",
    "savetxt('E:/GIS_IIRS/P2/Output/test_df2_newer.csv',df2_newer, delimiter=',')"
   ]
  }
 ],
 "metadata": {
  "kernelspec": {
   "display_name": "Python 3 (ipykernel)",
   "language": "python",
   "name": "python3"
  },
  "language_info": {
   "codemirror_mode": {
    "name": "ipython",
    "version": 3
   },
   "file_extension": ".py",
   "mimetype": "text/x-python",
   "name": "python",
   "nbconvert_exporter": "python",
   "pygments_lexer": "ipython3",
   "version": "3.10.1"
  }
 },
 "nbformat": 4,
 "nbformat_minor": 5
}
